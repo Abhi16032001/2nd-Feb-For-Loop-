{
 "cells": [
  {
   "cell_type": "code",
   "execution_count": null,
   "id": "d7ada9c0-a91f-4590-9a0f-71cc15af37d9",
   "metadata": {},
   "outputs": [],
   "source": [
    "# Que 1: Explain with an example each when to use a for loop and a while loop.\n",
    "# Ans:\n",
    "'''for loop:\n",
    "    The loop is Used to iterate a specific block of code multiple times. \n",
    "    The for loop is used when we already know the number of iterations, which means\n",
    "     when we know how many times a statement has to be executed.\n",
    "    That is why we have to specify the ending point in the for loop initialization. \n",
    "    for example:''' \n",
    "for i in range(3):\n",
    "    print(\"Hello PW using for loop\")\n",
    "print(\"\\n\")    \n",
    "'''while loop:\n",
    "    The while loop is used to iterate a block of code multiple times until the given condition is true.\n",
    "      it is useful when we can't specify terminating condition of the loop. it is useful because it checks\n",
    "      the condition every time before executing the code inside it which for loop doesn't\n",
    "    for example:'''\n",
    "count = 0\n",
    "while (count < 3):\n",
    "    count = count + 1\n",
    "    print(\"Hello PW using while loop\")"
   ]
  },
  {
   "cell_type": "code",
   "execution_count": null,
   "id": "bd7ca793-2eea-449c-b293-05cd7666f18d",
   "metadata": {},
   "outputs": [],
   "source": []
  },
  {
   "cell_type": "code",
   "execution_count": null,
   "id": "c8a79aaf-69e7-4008-b6ad-8dea1c89060d",
   "metadata": {},
   "outputs": [],
   "source": [
    "# Que 2: Write a python program to print the sum and product of the first 10 natural numbers using for and while loop.\n",
    "# Ans:\n",
    "print(\"using for loop \\n\")\n",
    "sum1 = 0\n",
    "pro1 = 1\n",
    "for i in range(1,11):\n",
    "    sum1 += i\n",
    "    pro1 *= i\n",
    "print(f\"The sum of first 10 natural number is : {sum1}\")\n",
    "print(f\"The product of first 10 natural number is : {pro1}\")\n",
    "\n",
    "print(\"\\nusing while loop \\n\")\n",
    "sum2 = 0\n",
    "pro2 = 1\n",
    "i = 1\n",
    "while i <= 10:\n",
    "    sum2 += i\n",
    "    pro2 *= i\n",
    "    i +=1\n",
    "print(f\"The sum of first 10 natural number is : {sum2}\")\n",
    "print(f\"The product of first 10 natural number is : {pro2}\")"
   ]
  }
 ],
 "metadata": {
  "kernelspec": {
   "display_name": "Python 3 (ipykernel)",
   "language": "python",
   "name": "python3"
  },
  "language_info": {
   "codemirror_mode": {
    "name": "ipython",
    "version": 3
   },
   "file_extension": ".py",
   "mimetype": "text/x-python",
   "name": "python",
   "nbconvert_exporter": "python",
   "pygments_lexer": "ipython3",
   "version": "3.10.8"
  }
 },
 "nbformat": 4,
 "nbformat_minor": 5
}
